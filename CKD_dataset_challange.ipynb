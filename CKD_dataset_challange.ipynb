{
 "cells": [
  {
   "cell_type": "code",
   "execution_count": 1,
   "metadata": {},
   "outputs": [
    {
     "name": "stderr",
     "output_type": "stream",
     "text": [
      "Using TensorFlow backend.\n"
     ]
    }
   ],
   "source": [
    "import pandas as pd\n",
    "import matplotlib.pyplot as plt\n",
    "import numpy as np\n",
    "from scipy import interpolate\n",
    "from keras import regularizers\n",
    "from sklearn.model_selection import train_test_split\n",
    "from CKD_utils import *\n",
    "from CKD_models import *\n",
    "from sklearn.metrics import confusion_matrix"
   ]
  },
  {
   "cell_type": "markdown",
   "metadata": {},
   "source": [
    "Importing Data"
   ]
  },
  {
   "cell_type": "code",
   "execution_count": 2,
   "metadata": {},
   "outputs": [],
   "source": [
    "T_creatinine = pd.read_csv('T_creatinine.csv')\n",
    "T_DBP = pd.read_csv('T_DBP.csv')\n",
    "T_demo = pd.read_csv('T_demo.csv')\n",
    "T_glucose = pd.read_csv('T_glucose.csv')\n",
    "T_HGB = pd.read_csv('T_HGB.csv')\n",
    "T_ldl = pd.read_csv('T_ldl.csv')\n",
    "T_meds = pd.read_csv('T_meds.csv')\n",
    "T_SBP = pd.read_csv('T_SBP.csv')\n",
    "T_stage = pd.read_csv('T_stage.csv')"
   ]
  },
  {
   "cell_type": "markdown",
   "metadata": {},
   "source": [
    "Size of given EHR collection"
   ]
  },
  {
   "cell_type": "code",
   "execution_count": 3,
   "metadata": {},
   "outputs": [
    {
     "name": "stdout",
     "output_type": "stream",
     "text": [
      "T_creatinine: (1439, 3) \n",
      "T_DBP: (1821, 3) \n",
      "T_demo: (300, 4) \n",
      "T_glucose: (1556, 3) \n",
      "T_HGB: (2025, 3) \n",
      "T_ldl: (1261, 3) \n",
      "T_meds: (2181, 5) \n",
      "T_SBP: (1809, 3) \n",
      "T_stage: (300, 2)\n"
     ]
    }
   ],
   "source": [
    "print('T_creatinine: {} \\nT_DBP: {} \\nT_demo: {} \\nT_glucose: {} \\nT_HGB: {} \\nT_ldl: {} \\nT_meds: {} \\nT_SBP: {} \\nT_stage: {}'.format(T_creatinine.shape,\n",
    "                                                                                                                                        T_DBP.shape,\n",
    "                                                                                                                                        T_demo.shape,\n",
    "                                                                                                                                        T_glucose.shape,\n",
    "                                                                                                                                        T_HGB.shape,\n",
    "                                                                                                                                        T_ldl.shape,\n",
    "                                                                                                                                        T_meds.shape,\n",
    "                                                                                                                                        T_SBP.shape,\n",
    "                                                                                                                                        T_stage.shape))"
   ]
  },
  {
   "cell_type": "markdown",
   "metadata": {},
   "source": [
    "Unique Values"
   ]
  },
  {
   "cell_type": "code",
   "execution_count": 4,
   "metadata": {},
   "outputs": [
    {
     "name": "stdout",
     "output_type": "stream",
     "text": [
      "T_creatinine: (300,) \n",
      "T_DBP: (300,) \n",
      "T_demo: (300,) \n",
      "T_glucose: (300,) \n",
      "T_HGB: (300,) \n",
      "T_ldl: (300,) \n",
      "T_meds: (272,) \n",
      "T_SBP: (300,) \n",
      "T_stage: (300,)\n"
     ]
    }
   ],
   "source": [
    "print('T_creatinine: {} \\nT_DBP: {} \\nT_demo: {} \\nT_glucose: {} \\nT_HGB: {} \\nT_ldl: {} \\nT_meds: {} \\nT_SBP: {} \\nT_stage: {}'.format(T_creatinine['id'].unique().shape,\n",
    "                                                                                                                                        T_DBP['id'].unique().shape,\n",
    "                                                                                                                                        T_demo['id'].unique().shape,\n",
    "                                                                                                                                        T_glucose['id'].unique().shape,\n",
    "                                                                                                                                        T_HGB['id'].unique().shape,\n",
    "                                                                                                                                        T_ldl['id'].unique().shape,\n",
    "                                                                                                                                        T_meds['id'].unique().shape,\n",
    "                                                                                                                                        T_SBP['id'].unique().shape,\n",
    "                                                                                                                                        T_stage['id'].unique().shape))"
   ]
  },
  {
   "cell_type": "markdown",
   "metadata": {},
   "source": [
    "Number of days for which data is given"
   ]
  },
  {
   "cell_type": "code",
   "execution_count": 5,
   "metadata": {},
   "outputs": [
    {
     "name": "stdout",
     "output_type": "stream",
     "text": [
      "T_creatinine: 699 \n",
      "T_DBP: 699  \n",
      "T_glucose: 699 \n",
      "T_HGB: 1429 \n",
      "T_ldl: 699 \n",
      "T_meds: 698 \n",
      "T_SBP: 699\n"
     ]
    }
   ],
   "source": [
    "print('T_creatinine: {} \\nT_DBP: {}  \\nT_glucose: {} \\nT_HGB: {} \\nT_ldl: {} \\nT_meds: {} \\nT_SBP: {}'.format(max(T_creatinine['time']),\n",
    "                                                                                                              max(T_DBP['time']),\n",
    "                                                                                                              max(T_glucose['time']),\n",
    "                                                                                                              max(T_HGB['time']),\n",
    "                                                                                                              max(T_ldl['time']),\n",
    "                                                                                                              max(T_meds['end_day']),\n",
    "                                                                                                              max(T_SBP['time'])))"
   ]
  },
  {
   "cell_type": "markdown",
   "metadata": {},
   "source": [
    "Fields"
   ]
  },
  {
   "cell_type": "code",
   "execution_count": 6,
   "metadata": {},
   "outputs": [
    {
     "name": "stdout",
     "output_type": "stream",
     "text": [
      "T_creatinine: ['id' 'value' 'time'] \n",
      "T_DBP: ['id' 'value' 'time'] \n",
      "T_demo: ['id' 'race' 'gender' 'age'] \n",
      "T_glucose: ['id' 'value' 'time'] \n",
      "T_HGB: ['id' 'value' 'time'] \n",
      "T_ldl: ['id' 'value' 'time'] \n",
      "T_meds: ['id' 'drug' 'daily_dosage' 'start_day' 'end_day'] \n",
      "T_SBP: ['id' 'value' 'time'] \n",
      "T_stage: ['id' 'Stage_Progress']\n"
     ]
    }
   ],
   "source": [
    "print('T_creatinine: {} \\nT_DBP: {} \\nT_demo: {} \\nT_glucose: {} \\nT_HGB: {} \\nT_ldl: {} \\nT_meds: {} \\nT_SBP: {} \\nT_stage: {}'.format(T_creatinine.columns.values,\n",
    "                                                                                                                                        T_DBP.columns.values,\n",
    "                                                                                                                                        T_demo.columns.values,\n",
    "                                                                                                                                        T_glucose.columns.values,\n",
    "                                                                                                                                        T_HGB.columns.values,\n",
    "                                                                                                                                        T_ldl.columns.values,\n",
    "                                                                                                                                        T_meds.columns.values,\n",
    "                                                                                                                                        T_SBP.columns.values,\n",
    "                                                                                                                                        T_stage.columns.values))"
   ]
  },
  {
   "cell_type": "markdown",
   "metadata": {},
   "source": [
    "Race and gender"
   ]
  },
  {
   "cell_type": "code",
   "execution_count": 7,
   "metadata": {},
   "outputs": [
    {
     "name": "stdout",
     "output_type": "stream",
     "text": [
      "['Unknown' 'White' 'Black' 'Asian' 'Hispanic']\n",
      "['Male' 'Female']\n"
     ]
    }
   ],
   "source": [
    "print(T_demo['race'].unique())\n",
    "print(T_demo['gender'].unique())"
   ]
  },
  {
   "cell_type": "code",
   "execution_count": 8,
   "metadata": {},
   "outputs": [
    {
     "data": {
      "image/png": "[encoded data removed]",
      "text/plain": [
       "<Figure size 432x288 with 1 Axes>"
      ]
     },
     "metadata": {
      "needs_background": "light"
     },
     "output_type": "display_data"
    }
   ],
   "source": [
    "combined_table = pd.merge(T_stage, T_demo, how='inner', on='id')\n",
    "labels = ['Unknown', 'White', 'Black', 'Asian', 'Hispanic']\n",
    "men_means = []\n",
    "women_means = []\n",
    "for x in labels:\n",
    "    for gen in ['Male', 'Female']:\n",
    "        combined = combined_table[combined_table['race']==x]\n",
    "        combined_number = combined[combined['gender']==gen]['Stage_Progress'].count()\n",
    "        combined2 = combined[combined['gender']==gen]['Stage_Progress']\n",
    "        combined_true = combined2[combined2==True].count()\n",
    "        if gen == \"Male\":\n",
    "            men_means.append(round(combined_true/combined_number*100))\n",
    "        elif gen == 'Female':\n",
    "            women_means.append(round(combined_true/combined_number*100))\n",
    "\n",
    "x = np.arange(len(labels))  # the label locations\n",
    "width = 0.35  # the width of the bars\n",
    "\n",
    "fig, ax = plt.subplots()\n",
    "rects1 = ax.bar(x - width/2, men_means, width, label='Men')\n",
    "rects2 = ax.bar(x + width/2, women_means, width, label='Women')\n",
    "\n",
    "# Add some text for labels, title and custom x-axis tick labels, etc.\n",
    "ax.set_ylabel('% positive')\n",
    "ax.set_title('% positive CKD grouped by race and gender')\n",
    "ax.set_xticks(x)\n",
    "ax.set_xticklabels(labels)\n",
    "ax.legend()\n",
    "\n",
    "\n",
    "def autolabel(rects):\n",
    "    for rect in rects:\n",
    "        height = rect.get_height()\n",
    "        ax.annotate('{}'.format(height),\n",
    "                    xy=(rect.get_x() + rect.get_width() / 2, height),\n",
    "                    xytext=(0, 3),  # 3 points vertical offset\n",
    "                    textcoords=\"offset points\",\n",
    "                    ha='center', va='bottom')\n",
    "\n",
    "\n",
    "autolabel(rects1)\n",
    "autolabel(rects2)\n",
    "\n",
    "fig.tight_layout()\n",
    "\n",
    "plt.show()"
   ]
  },
  {
   "cell_type": "code",
   "execution_count": 9,
   "metadata": {},
   "outputs": [
    {
     "data": {
      "text/plain": [
       "<matplotlib.axes._subplots.AxesSubplot at 0x2213315cf48>"
      ]
     },
     "execution_count": 9,
     "metadata": {},
     "output_type": "execute_result"
    },
    {
     "data": {
      "image/png": "[encoded data removed]",
      "text/plain": [
       "<Figure size 864x432 with 1 Axes>"
      ]
     },
     "metadata": {
      "needs_background": "light"
     },
     "output_type": "display_data"
    }
   ],
   "source": [
    "combined_table.boxplot(column='age', by='race', figsize=(12,6))"
   ]
  },
  {
   "cell_type": "markdown",
   "metadata": {},
   "source": [
    "Medicine"
   ]
  },
  {
   "cell_type": "code",
   "execution_count": 10,
   "metadata": {},
   "outputs": [
    {
     "data": {
      "text/plain": [
       "['atorvastatin',\n",
       " 'losartan',\n",
       " 'metformin',\n",
       " 'rosuvastatin',\n",
       " 'pravastatin',\n",
       " 'carvedilol',\n",
       " 'valsartan',\n",
       " 'metoprolol',\n",
       " 'simvastatin',\n",
       " 'bisoprolol',\n",
       " 'atenolol',\n",
       " 'lovastatin',\n",
       " 'olmesartan',\n",
       " 'irbesartan',\n",
       " 'canagliflozin',\n",
       " 'dapagliflozin',\n",
       " 'telmisartan',\n",
       " 'labetalol',\n",
       " 'nebivolol',\n",
       " 'pitavastatin',\n",
       " 'propranolol']"
      ]
     },
     "execution_count": 10,
     "metadata": {},
     "output_type": "execute_result"
    }
   ],
   "source": [
    "T_meds['drug'].unique().tolist()"
   ]
  },
  {
   "cell_type": "markdown",
   "metadata": {},
   "source": [
    "Train, validation and test split"
   ]
  },
  {
   "cell_type": "code",
   "execution_count": 11,
   "metadata": {},
   "outputs": [
    {
     "name": "stdout",
     "output_type": "stream",
     "text": [
      "(180, 4) (60, 4) (60, 4)\n"
     ]
    }
   ],
   "source": [
    "train_demo, validation_demo = train_test_split(T_demo, test_size = 0.4, random_state=100)\n",
    "validation_demo, test_demo = train_test_split(validation_demo, test_size = 0.5, random_state=100)\n",
    "print(train_demo.shape, validation_demo.shape, test_demo.shape)"
   ]
  },
  {
   "cell_type": "markdown",
   "metadata": {},
   "source": [
    "Data augmentation"
   ]
  },
  {
   "cell_type": "code",
   "execution_count": 12,
   "metadata": {},
   "outputs": [
    {
     "name": "stderr",
     "output_type": "stream",
     "text": [
      "C:\\Users\\shala\\OneDrive\\Documents\\Python Scripts\\dataScienceTask\\CKD_utils.py:30: SettingWithCopyWarning: \n",
      "A value is trying to be set on a copy of a slice from a DataFrame.\n",
      "Try using .loc[row_indexer,col_indexer] = value instead\n",
      "\n",
      "See the caveats in the documentation: http://pandas.pydata.org/pandas-docs/stable/user_guide/indexing.html#returning-a-view-versus-a-copy\n",
      "  add_row['id']= counter+length\n"
     ]
    }
   ],
   "source": [
    "train_list = data_augment(T_creatinine, T_DBP, T_SBP, T_glucose, T_ldl, T_HGB, train_demo, T_meds, T_stage, 300)\n",
    "length1 = train_list[6]['id'].max() + 120\n",
    "validation_list = data_augment(T_creatinine, T_DBP, T_SBP, T_glucose, T_ldl, T_HGB, validation_demo, T_meds, T_stage, length1)\n",
    "length2 = validation_list[6]['id'].max() + 60\n",
    "test_list = data_augment(T_creatinine, T_DBP, T_SBP, T_glucose, T_ldl, T_HGB, test_demo, T_meds, T_stage, length2)"
   ]
  },
  {
   "cell_type": "markdown",
   "metadata": {},
   "source": [
    "Getting input array"
   ]
  },
  {
   "cell_type": "code",
   "execution_count": 13,
   "metadata": {},
   "outputs": [],
   "source": [
    "train_sentences, train_aux_sentences = get_final_array(train_list)\n",
    "validation_sentences, validation_aux_sentences = get_final_array(validation_list)\n",
    "test_sentences, test_aux_sentences = get_final_array(test_list)\n",
    "train_labels = np.asarray(train_list[8]['Stage_Progress']*1)\n",
    "validation_labels = np.asarray(validation_list[8]['Stage_Progress']*1)\n",
    "test_labels = np.asarray(test_list[8]['Stage_Progress']*1)"
   ]
  },
  {
   "cell_type": "markdown",
   "metadata": {},
   "source": [
    "Model 1"
   ]
  },
  {
   "cell_type": "code",
   "execution_count": 14,
   "metadata": {},
   "outputs": [
    {
     "name": "stdout",
     "output_type": "stream",
     "text": [
      "Model: \"sequential\"\n",
      "_________________________________________________________________\n",
      "Layer (type)                 Output Shape              Param #   \n",
      "=================================================================\n",
      "gru (GRU)                    (None, 128)               60288     \n",
      "_________________________________________________________________\n",
      "dropout (Dropout)            (None, 128)               0         \n",
      "_________________________________________________________________\n",
      "dense (Dense)                (None, 64)                8256      \n",
      "_________________________________________________________________\n",
      "dropout_1 (Dropout)          (None, 64)                0         \n",
      "_________________________________________________________________\n",
      "dense_1 (Dense)              (None, 16)                1040      \n",
      "_________________________________________________________________\n",
      "dropout_2 (Dropout)          (None, 16)                0         \n",
      "_________________________________________________________________\n",
      "dense_2 (Dense)              (None, 1)                 17        \n",
      "=================================================================\n",
      "Total params: 69,601\n",
      "Trainable params: 69,601\n",
      "Non-trainable params: 0\n",
      "_________________________________________________________________\n"
     ]
    }
   ],
   "source": [
    "model_0 = GRU_model()\n",
    "model_0.summary()"
   ]
  },
  {
   "cell_type": "code",
   "execution_count": 15,
   "metadata": {},
   "outputs": [
    {
     "name": "stdout",
     "output_type": "stream",
     "text": [
      "Train on 1123 samples, validate on 389 samples\n",
      "Epoch 1/30\n",
      "WARNING:tensorflow:From C:\\Users\\shala\\Anaconda3\\envs\\tf-gpu\\lib\\site-packages\\tensorflow_core\\python\\ops\\resource_variable_ops.py:1781: calling BaseResourceVariable.__init__ (from tensorflow.python.ops.resource_variable_ops) with constraint is deprecated and will be removed in a future version.\n",
      "Instructions for updating:\n",
      "If using Keras pass *_constraint arguments to layers.\n",
      "INFO:tensorflow:Assets written to: model_0\\assets\n",
      "1123/1123 - 33s - loss: 0.7841 - accuracy: 0.6572 - f1_factor: 0.0617 - val_loss: 0.6855 - val_accuracy: 0.6710 - val_f1_factor: 0.0879\n",
      "Epoch 2/30\n",
      "INFO:tensorflow:Assets written to: model_0\\assets\n",
      "1123/1123 - 29s - loss: 0.6955 - accuracy: 0.6830 - f1_factor: 0.2718 - val_loss: 0.6703 - val_accuracy: 0.8072 - val_f1_factor: 0.7126\n",
      "Epoch 3/30\n",
      "INFO:tensorflow:Assets written to: model_0\\assets\n",
      "1123/1123 - 29s - loss: 0.7079 - accuracy: 0.7213 - f1_factor: 0.4176 - val_loss: 0.5575 - val_accuracy: 0.7326 - val_f1_factor: 0.5262\n",
      "Epoch 4/30\n",
      "INFO:tensorflow:Assets written to: model_0\\assets\n",
      "1123/1123 - 29s - loss: 0.6129 - accuracy: 0.7222 - f1_factor: 0.5114 - val_loss: 2.0131 - val_accuracy: 0.6838 - val_f1_factor: 0.5414\n",
      "Epoch 5/30\n",
      "INFO:tensorflow:Assets written to: model_0\\assets\n",
      "1123/1123 - 29s - loss: 0.6042 - accuracy: 0.7498 - f1_factor: 0.5282 - val_loss: 0.5456 - val_accuracy: 0.7841 - val_f1_factor: 0.5583\n",
      "Epoch 6/30\n",
      "INFO:tensorflow:Assets written to: model_0\\assets\n",
      "1123/1123 - 29s - loss: 0.5943 - accuracy: 0.7293 - f1_factor: 0.5168 - val_loss: 0.5691 - val_accuracy: 0.7506 - val_f1_factor: 0.5687\n",
      "Epoch 7/30\n",
      "INFO:tensorflow:Assets written to: model_0\\assets\n",
      "1123/1123 - 29s - loss: 0.5656 - accuracy: 0.7444 - f1_factor: 0.5375 - val_loss: 0.5483 - val_accuracy: 0.7661 - val_f1_factor: 0.6057\n",
      "Epoch 8/30\n",
      "INFO:tensorflow:Assets written to: model_0\\assets\n",
      "1123/1123 - 29s - loss: 0.5515 - accuracy: 0.7569 - f1_factor: 0.5470 - val_loss: 0.6119 - val_accuracy: 0.7198 - val_f1_factor: 0.5492\n",
      "Epoch 9/30\n",
      "INFO:tensorflow:Assets written to: model_0\\assets\n",
      "1123/1123 - 29s - loss: 0.5536 - accuracy: 0.7649 - f1_factor: 0.5333 - val_loss: 0.5789 - val_accuracy: 0.7738 - val_f1_factor: 0.6151\n",
      "Epoch 10/30\n",
      "INFO:tensorflow:Assets written to: model_0\\assets\n",
      "1123/1123 - 29s - loss: 0.5350 - accuracy: 0.7685 - f1_factor: 0.5616 - val_loss: 0.7347 - val_accuracy: 0.7558 - val_f1_factor: 0.6352\n",
      "Epoch 11/30\n",
      "INFO:tensorflow:Assets written to: model_0\\assets\n",
      "1123/1123 - 30s - loss: 0.5320 - accuracy: 0.7765 - f1_factor: 0.5533 - val_loss: 0.6522 - val_accuracy: 0.7172 - val_f1_factor: 0.5609\n",
      "Epoch 12/30\n",
      "INFO:tensorflow:Assets written to: model_0\\assets\n",
      "1123/1123 - 29s - loss: 0.5073 - accuracy: 0.7898 - f1_factor: 0.5913 - val_loss: 0.6549 - val_accuracy: 0.7506 - val_f1_factor: 0.5776\n",
      "Epoch 13/30\n",
      "INFO:tensorflow:Assets written to: model_0\\assets\n",
      "1123/1123 - 29s - loss: 0.4963 - accuracy: 0.7961 - f1_factor: 0.5863 - val_loss: 0.6860 - val_accuracy: 0.7121 - val_f1_factor: 0.5900\n",
      "Epoch 14/30\n",
      "INFO:tensorflow:Assets written to: model_0\\assets\n",
      "1123/1123 - 28s - loss: 0.5042 - accuracy: 0.7854 - f1_factor: 0.6123 - val_loss: 0.7079 - val_accuracy: 0.7635 - val_f1_factor: 0.6199\n",
      "Epoch 15/30\n",
      "INFO:tensorflow:Assets written to: model_0\\assets\n",
      "1123/1123 - 29s - loss: 0.4754 - accuracy: 0.8112 - f1_factor: 0.6205 - val_loss: 0.9491 - val_accuracy: 0.6812 - val_f1_factor: 0.5700\n",
      "Epoch 16/30\n",
      "INFO:tensorflow:Assets written to: model_0\\assets\n",
      "1123/1123 - 29s - loss: 0.5453 - accuracy: 0.7925 - f1_factor: 0.6258 - val_loss: 0.6338 - val_accuracy: 0.7326 - val_f1_factor: 0.6285\n",
      "Epoch 17/30\n",
      "INFO:tensorflow:Assets written to: model_0\\assets\n",
      "1123/1123 - 29s - loss: 0.4658 - accuracy: 0.8068 - f1_factor: 0.6556 - val_loss: 0.6879 - val_accuracy: 0.7301 - val_f1_factor: 0.6251\n",
      "Epoch 18/30\n",
      "INFO:tensorflow:Assets written to: model_0\\assets\n",
      "1123/1123 - 29s - loss: 0.4713 - accuracy: 0.8192 - f1_factor: 0.6709 - val_loss: 0.6430 - val_accuracy: 0.7172 - val_f1_factor: 0.4354\n",
      "Epoch 19/30\n",
      "INFO:tensorflow:Assets written to: model_0\\assets\n",
      "1123/1123 - 30s - loss: 0.4952 - accuracy: 0.7952 - f1_factor: 0.6380 - val_loss: 0.7196 - val_accuracy: 0.7301 - val_f1_factor: 0.6033\n",
      "Epoch 20/30\n",
      "INFO:tensorflow:Assets written to: model_0\\assets\n",
      "1123/1123 - 29s - loss: 0.4603 - accuracy: 0.8121 - f1_factor: 0.6521 - val_loss: 0.7173 - val_accuracy: 0.7121 - val_f1_factor: 0.5812\n",
      "Epoch 21/30\n",
      "INFO:tensorflow:Assets written to: model_0\\assets\n",
      "1123/1123 - 29s - loss: 0.4242 - accuracy: 0.8433 - f1_factor: 0.7002 - val_loss: 0.7909 - val_accuracy: 0.7301 - val_f1_factor: 0.6033\n",
      "Epoch 22/30\n",
      "INFO:tensorflow:Assets written to: model_0\\assets\n",
      "1123/1123 - 29s - loss: 0.3995 - accuracy: 0.8602 - f1_factor: 0.7577 - val_loss: 0.8754 - val_accuracy: 0.6838 - val_f1_factor: 0.5423\n",
      "Epoch 23/30\n",
      "INFO:tensorflow:Assets written to: model_0\\assets\n",
      "1123/1123 - 28s - loss: 0.4275 - accuracy: 0.8370 - f1_factor: 0.6872 - val_loss: 0.9090 - val_accuracy: 0.6967 - val_f1_factor: 0.5921\n",
      "Epoch 24/30\n",
      "INFO:tensorflow:Assets written to: model_0\\assets\n",
      "1123/1123 - 29s - loss: 0.3844 - accuracy: 0.8638 - f1_factor: 0.7316 - val_loss: 1.0075 - val_accuracy: 0.7301 - val_f1_factor: 0.6163\n",
      "Epoch 25/30\n",
      "INFO:tensorflow:Assets written to: model_0\\assets\n",
      "1123/1123 - 30s - loss: 0.3763 - accuracy: 0.8566 - f1_factor: 0.7516 - val_loss: 1.0524 - val_accuracy: 0.7121 - val_f1_factor: 0.5981\n",
      "Epoch 26/30\n",
      "INFO:tensorflow:Assets written to: model_0\\assets\n",
      "1123/1123 - 28s - loss: 0.3883 - accuracy: 0.8566 - f1_factor: 0.7526 - val_loss: 1.3220 - val_accuracy: 0.7147 - val_f1_factor: 0.6056\n",
      "Epoch 27/30\n",
      "INFO:tensorflow:Assets written to: model_0\\assets\n",
      "1123/1123 - 29s - loss: 0.3747 - accuracy: 0.8700 - f1_factor: 0.7667 - val_loss: 0.7125 - val_accuracy: 0.7275 - val_f1_factor: 0.5976\n",
      "Epoch 28/30\n",
      "INFO:tensorflow:Assets written to: model_0\\assets\n",
      "1123/1123 - 28s - loss: 0.4383 - accuracy: 0.8362 - f1_factor: 0.7467 - val_loss: 1.1244 - val_accuracy: 0.5244 - val_f1_factor: 0.5741\n",
      "Epoch 29/30\n",
      "INFO:tensorflow:Assets written to: model_0\\assets\n",
      "1123/1123 - 29s - loss: 0.6197 - accuracy: 0.7088 - f1_factor: 0.4606 - val_loss: 0.7030 - val_accuracy: 0.7198 - val_f1_factor: 0.5337\n",
      "Epoch 30/30\n",
      "INFO:tensorflow:Assets written to: model_0\\assets\n",
      "1123/1123 - 29s - loss: 0.5666 - accuracy: 0.7507 - f1_factor: 0.5041 - val_loss: 0.6800 - val_accuracy: 0.7147 - val_f1_factor: 0.5651\n"
     ]
    }
   ],
   "source": [
    "reduce_lr = tf.keras.callbacks.ReduceLROnPlateau(monitor='loss', factor=0.5, patience=50, min_lr=0.001)\n",
    "model_checkpoint = tf.keras.callbacks.ModelCheckpoint('model_0', monitor='loss', restore_best_weights=True)\n",
    "callbacks = [reduce_lr, model_checkpoint]\n",
    "\n",
    "history_0=model_0.fit(x=([train_sentences]), y=[train_labels],  epochs=30, validation_data=([validation_sentences], validation_labels), verbose=2, callbacks=callbacks)"
   ]
  },
  {
   "cell_type": "code",
   "execution_count": 16,
   "metadata": {},
   "outputs": [
    {
     "data": {
      "text/plain": [
       "array([[ 47,  51],\n",
       "       [ 80, 198]], dtype=int64)"
      ]
     },
     "execution_count": 16,
     "metadata": {},
     "output_type": "execute_result"
    }
   ],
   "source": [
    "pred = np.around(model_0.predict([test_sentences]).astype(float))\n",
    "confusion_matrix(test_labels, pred, labels=[1,0])"
   ]
  },
  {
   "cell_type": "code",
   "execution_count": 17,
   "metadata": {},
   "outputs": [
    {
     "data": {
      "image/png": "[encoded data removed]",
      "text/plain": [
       "<Figure size 432x288 with 1 Axes>"
      ]
     },
     "metadata": {
      "needs_background": "light"
     },
     "output_type": "display_data"
    },
    {
     "data": {
      "image/png": "[encoded data removed]",
      "text/plain": [
       "<Figure size 432x288 with 1 Axes>"
      ]
     },
     "metadata": {
      "needs_background": "light"
     },
     "output_type": "display_data"
    }
   ],
   "source": [
    "plot_graphs(history_0, \"f1_factor\")\n",
    "plot_graphs(history_0, \"loss\")"
   ]
  },
  {
   "cell_type": "markdown",
   "metadata": {},
   "source": [
    "Model 2"
   ]
  },
  {
   "cell_type": "code",
   "execution_count": 18,
   "metadata": {},
   "outputs": [
    {
     "name": "stdout",
     "output_type": "stream",
     "text": [
      "Model: \"model\"\n",
      "__________________________________________________________________________________________________\n",
      "Layer (type)                    Output Shape         Param #     Connected to                     \n",
      "==================================================================================================\n",
      "main_input (InputLayer)         [(None, 700, 27)]    0                                            \n",
      "__________________________________________________________________________________________________\n",
      "conv1d (Conv1D)                 (None, 696, 128)     17408       main_input[0][0]                 \n",
      "__________________________________________________________________________________________________\n",
      "max_pooling1d (MaxPooling1D)    (None, 232, 128)     0           conv1d[0][0]                     \n",
      "__________________________________________________________________________________________________\n",
      "dropout_3 (Dropout)             (None, 232, 128)     0           max_pooling1d[0][0]              \n",
      "__________________________________________________________________________________________________\n",
      "conv1d_1 (Conv1D)               (None, 228, 64)      41024       dropout_3[0][0]                  \n",
      "__________________________________________________________________________________________________\n",
      "max_pooling1d_1 (MaxPooling1D)  (None, 114, 64)      0           conv1d_1[0][0]                   \n",
      "__________________________________________________________________________________________________\n",
      "dropout_4 (Dropout)             (None, 114, 64)      0           max_pooling1d_1[0][0]            \n",
      "__________________________________________________________________________________________________\n",
      "conv1d_2 (Conv1D)               (None, 110, 64)      20544       dropout_4[0][0]                  \n",
      "__________________________________________________________________________________________________\n",
      "max_pooling1d_2 (MaxPooling1D)  (None, 55, 64)       0           conv1d_2[0][0]                   \n",
      "__________________________________________________________________________________________________\n",
      "dropout_5 (Dropout)             (None, 55, 64)       0           max_pooling1d_2[0][0]            \n",
      "__________________________________________________________________________________________________\n",
      "gru_1 (GRU)                     (None, 55, 64)       24960       dropout_5[0][0]                  \n",
      "__________________________________________________________________________________________________\n",
      "dropout_6 (Dropout)             (None, 55, 64)       0           gru_1[0][0]                      \n",
      "__________________________________________________________________________________________________\n",
      "gru_2 (GRU)                     (None, 64)           24960       dropout_6[0][0]                  \n",
      "__________________________________________________________________________________________________\n",
      "aux_input (InputLayer)          [(None, 7)]          0                                            \n",
      "__________________________________________________________________________________________________\n",
      "concatenate (Concatenate)       (None, 71)           0           gru_2[0][0]                      \n",
      "                                                                 aux_input[0][0]                  \n",
      "__________________________________________________________________________________________________\n",
      "dropout_7 (Dropout)             (None, 71)           0           concatenate[0][0]                \n",
      "__________________________________________________________________________________________________\n",
      "dense_3 (Dense)                 (None, 64)           4608        dropout_7[0][0]                  \n",
      "__________________________________________________________________________________________________\n",
      "dropout_8 (Dropout)             (None, 64)           0           dense_3[0][0]                    \n",
      "__________________________________________________________________________________________________\n",
      "dense_4 (Dense)                 (None, 16)           1040        dropout_8[0][0]                  \n",
      "__________________________________________________________________________________________________\n",
      "dropout_9 (Dropout)             (None, 16)           0           dense_4[0][0]                    \n",
      "__________________________________________________________________________________________________\n",
      "dense_5 (Dense)                 (None, 1)            17          dropout_9[0][0]                  \n",
      "==================================================================================================\n",
      "Total params: 134,561\n",
      "Trainable params: 134,561\n",
      "Non-trainable params: 0\n",
      "__________________________________________________________________________________________________\n"
     ]
    }
   ],
   "source": [
    "model_1 = CNN_GRU_model()\n",
    "model_1.summary()"
   ]
  },
  {
   "cell_type": "code",
   "execution_count": 19,
   "metadata": {},
   "outputs": [
    {
     "name": "stdout",
     "output_type": "stream",
     "text": [
      "Train on 1123 samples, validate on 389 samples\n",
      "Epoch 1/30\n",
      "INFO:tensorflow:Assets written to: model_0\\assets\n",
      "1123/1123 - 20s - loss: 1.4682 - accuracy: 0.6358 - f1_factor: 0.1410 - val_loss: 1.3132 - val_accuracy: 0.7712 - val_f1_factor: 0.3854\n",
      "Epoch 2/30\n",
      "INFO:tensorflow:Assets written to: model_0\\assets\n",
      "1123/1123 - 12s - loss: 1.2152 - accuracy: 0.7106 - f1_factor: 0.4140 - val_loss: 1.0766 - val_accuracy: 0.7352 - val_f1_factor: 0.6412\n",
      "Epoch 3/30\n",
      "INFO:tensorflow:Assets written to: model_0\\assets\n",
      "1123/1123 - 11s - loss: 0.9955 - accuracy: 0.7738 - f1_factor: 0.6028 - val_loss: 1.1895 - val_accuracy: 0.6658 - val_f1_factor: 0.5948\n",
      "Epoch 4/30\n",
      "INFO:tensorflow:Assets written to: model_0\\assets\n",
      "1123/1123 - 12s - loss: 0.8051 - accuracy: 0.8246 - f1_factor: 0.6736 - val_loss: 1.1674 - val_accuracy: 0.7147 - val_f1_factor: 0.5676\n",
      "Epoch 5/30\n",
      "INFO:tensorflow:Assets written to: model_0\\assets\n",
      "1123/1123 - 12s - loss: 0.6837 - accuracy: 0.8433 - f1_factor: 0.7402 - val_loss: 3.0906 - val_accuracy: 0.6555 - val_f1_factor: 0.5097\n",
      "Epoch 6/30\n",
      "INFO:tensorflow:Assets written to: model_0\\assets\n",
      "1123/1123 - 11s - loss: 0.7153 - accuracy: 0.7996 - f1_factor: 0.6651 - val_loss: 2.1166 - val_accuracy: 0.6812 - val_f1_factor: 0.6052\n",
      "Epoch 7/30\n",
      "INFO:tensorflow:Assets written to: model_0\\assets\n",
      "1123/1123 - 12s - loss: 0.5858 - accuracy: 0.8557 - f1_factor: 0.7296 - val_loss: 3.5550 - val_accuracy: 0.5681 - val_f1_factor: 0.4408\n",
      "Epoch 8/30\n",
      "INFO:tensorflow:Assets written to: model_0\\assets\n",
      "1123/1123 - 12s - loss: 0.5093 - accuracy: 0.8709 - f1_factor: 0.7611 - val_loss: 2.8594 - val_accuracy: 0.6427 - val_f1_factor: 0.5698\n",
      "Epoch 9/30\n",
      "INFO:tensorflow:Assets written to: model_0\\assets\n",
      "1123/1123 - 13s - loss: 0.4571 - accuracy: 0.8789 - f1_factor: 0.8000 - val_loss: 4.4646 - val_accuracy: 0.6015 - val_f1_factor: 0.4774\n",
      "Epoch 10/30\n",
      "INFO:tensorflow:Assets written to: model_0\\assets\n",
      "1123/1123 - 11s - loss: 0.4001 - accuracy: 0.8949 - f1_factor: 0.8233 - val_loss: 6.5118 - val_accuracy: 0.5681 - val_f1_factor: 0.4811\n",
      "Epoch 11/30\n",
      "INFO:tensorflow:Assets written to: model_0\\assets\n",
      "1123/1123 - 13s - loss: 0.5437 - accuracy: 0.8308 - f1_factor: 0.6556 - val_loss: 2.3951 - val_accuracy: 0.5681 - val_f1_factor: 0.4728\n",
      "Epoch 12/30\n",
      "INFO:tensorflow:Assets written to: model_0\\assets\n",
      "1123/1123 - 11s - loss: 0.4322 - accuracy: 0.8816 - f1_factor: 0.8007 - val_loss: 6.5822 - val_accuracy: 0.5861 - val_f1_factor: 0.5144\n",
      "Epoch 13/30\n",
      "INFO:tensorflow:Assets written to: model_0\\assets\n",
      "1123/1123 - 13s - loss: 0.3524 - accuracy: 0.8985 - f1_factor: 0.7979 - val_loss: 7.4678 - val_accuracy: 0.5861 - val_f1_factor: 0.5032\n",
      "Epoch 14/30\n",
      "INFO:tensorflow:Assets written to: model_0\\assets\n",
      "1123/1123 - 11s - loss: 0.3607 - accuracy: 0.9003 - f1_factor: 0.8395 - val_loss: 11.0279 - val_accuracy: 0.5296 - val_f1_factor: 0.4849\n",
      "Epoch 15/30\n",
      "INFO:tensorflow:Assets written to: model_0\\assets\n",
      "1123/1123 - 13s - loss: 0.3291 - accuracy: 0.9047 - f1_factor: 0.8432 - val_loss: 7.3289 - val_accuracy: 0.5476 - val_f1_factor: 0.4650\n",
      "Epoch 16/30\n",
      "INFO:tensorflow:Assets written to: model_0\\assets\n",
      "1123/1123 - 11s - loss: 0.2886 - accuracy: 0.9136 - f1_factor: 0.8355 - val_loss: 8.4472 - val_accuracy: 0.5321 - val_f1_factor: 0.4387\n",
      "Epoch 17/30\n",
      "INFO:tensorflow:Assets written to: model_0\\assets\n",
      "1123/1123 - 13s - loss: 0.2788 - accuracy: 0.9145 - f1_factor: 0.8629 - val_loss: 9.1741 - val_accuracy: 0.4781 - val_f1_factor: 0.4142\n",
      "Epoch 18/30\n",
      "INFO:tensorflow:Assets written to: model_0\\assets\n",
      "1123/1123 - 11s - loss: 0.2628 - accuracy: 0.9243 - f1_factor: 0.8869 - val_loss: 12.1418 - val_accuracy: 0.5141 - val_f1_factor: 0.4510\n",
      "Epoch 19/30\n",
      "INFO:tensorflow:Assets written to: model_0\\assets\n",
      "1123/1123 - 13s - loss: 0.2442 - accuracy: 0.9243 - f1_factor: 0.8793 - val_loss: 11.9851 - val_accuracy: 0.4602 - val_f1_factor: 0.4158\n",
      "Epoch 20/30\n",
      "INFO:tensorflow:Assets written to: model_0\\assets\n",
      "1123/1123 - 11s - loss: 0.2758 - accuracy: 0.9092 - f1_factor: 0.8585 - val_loss: 10.1170 - val_accuracy: 0.5167 - val_f1_factor: 0.4507\n",
      "Epoch 21/30\n",
      "INFO:tensorflow:Assets written to: model_0\\assets\n",
      "1123/1123 - 13s - loss: 0.2247 - accuracy: 0.9288 - f1_factor: 0.8851 - val_loss: 15.3105 - val_accuracy: 0.4627 - val_f1_factor: 0.4321\n",
      "Epoch 22/30\n",
      "INFO:tensorflow:Assets written to: model_0\\assets\n",
      "1123/1123 - 11s - loss: 0.1904 - accuracy: 0.9403 - f1_factor: 0.8853 - val_loss: 19.2504 - val_accuracy: 0.4627 - val_f1_factor: 0.4321\n",
      "Epoch 23/30\n",
      "INFO:tensorflow:Assets written to: model_0\\assets\n",
      "1123/1123 - 14s - loss: 0.3764 - accuracy: 0.9020 - f1_factor: 0.8592 - val_loss: 3.3194 - val_accuracy: 0.4910 - val_f1_factor: 0.4677\n",
      "Epoch 24/30\n",
      "INFO:tensorflow:Assets written to: model_0\\assets\n",
      "1123/1123 - 11s - loss: 0.4836 - accuracy: 0.8237 - f1_factor: 0.6698 - val_loss: 2.2206 - val_accuracy: 0.5861 - val_f1_factor: 0.4541\n",
      "Epoch 25/30\n",
      "INFO:tensorflow:Assets written to: model_0\\assets\n",
      "1123/1123 - 14s - loss: 0.4275 - accuracy: 0.8335 - f1_factor: 0.6912 - val_loss: 3.6811 - val_accuracy: 0.5835 - val_f1_factor: 0.4575\n",
      "Epoch 26/30\n",
      "INFO:tensorflow:Assets written to: model_0\\assets\n",
      "1123/1123 - 11s - loss: 0.2966 - accuracy: 0.9029 - f1_factor: 0.8233 - val_loss: 5.5901 - val_accuracy: 0.5810 - val_f1_factor: 0.4559\n",
      "Epoch 27/30\n",
      "INFO:tensorflow:Assets written to: model_0\\assets\n",
      "1123/1123 - 11s - loss: 0.2582 - accuracy: 0.9110 - f1_factor: 0.8635 - val_loss: 7.1791 - val_accuracy: 0.5296 - val_f1_factor: 0.4395\n",
      "Epoch 28/30\n",
      "INFO:tensorflow:Assets written to: model_0\\assets\n",
      "1123/1123 - 14s - loss: 0.2498 - accuracy: 0.9190 - f1_factor: 0.8747 - val_loss: 7.4930 - val_accuracy: 0.5476 - val_f1_factor: 0.5131\n",
      "Epoch 29/30\n",
      "INFO:tensorflow:Assets written to: model_0\\assets\n",
      "1123/1123 - 11s - loss: 0.2958 - accuracy: 0.9118 - f1_factor: 0.8304 - val_loss: 6.2095 - val_accuracy: 0.4730 - val_f1_factor: 0.4153\n",
      "Epoch 30/30\n",
      "INFO:tensorflow:Assets written to: model_0\\assets\n",
      "1123/1123 - 11s - loss: 0.2337 - accuracy: 0.9136 - f1_factor: 0.8567 - val_loss: 6.1716 - val_accuracy: 0.4961 - val_f1_factor: 0.4218\n"
     ]
    }
   ],
   "source": [
    "reduce_lr = tf.keras.callbacks.ReduceLROnPlateau(monitor='loss', factor=0.5, patience=50, min_lr=0.001)\n",
    "model_checkpoint = tf.keras.callbacks.ModelCheckpoint('model_0', monitor='loss', restore_best_weights=True)\n",
    "callbacks = [reduce_lr, model_checkpoint]\n",
    "\n",
    "history_1=model_1.fit(x=([train_sentences, train_aux_sentences]), y=[train_labels],  epochs=30, validation_data=([validation_sentences, validation_aux_sentences], validation_labels), verbose=2, callbacks=callbacks)"
   ]
  },
  {
   "cell_type": "code",
   "execution_count": 20,
   "metadata": {},
   "outputs": [
    {
     "data": {
      "text/plain": [
       "array([[ 73,  25],\n",
       "       [109, 169]], dtype=int64)"
      ]
     },
     "execution_count": 20,
     "metadata": {},
     "output_type": "execute_result"
    }
   ],
   "source": [
    "pred = np.around(model_1.predict([test_sentences, test_aux_sentences]).astype(float))\n",
    "confusion_matrix(test_labels, pred, labels=[1,0])"
   ]
  },
  {
   "cell_type": "code",
   "execution_count": 21,
   "metadata": {},
   "outputs": [
    {
     "data": {
      "image/png": "[encoded data removed]",
      "text/plain": [
       "<Figure size 432x288 with 1 Axes>"
      ]
     },
     "metadata": {
      "needs_background": "light"
     },
     "output_type": "display_data"
    },
    {
     "data": {
      "image/png": "[encoded data removed]",
      "text/plain": [
       "<Figure size 432x288 with 1 Axes>"
      ]
     },
     "metadata": {
      "needs_background": "light"
     },
     "output_type": "display_data"
    }
   ],
   "source": [
    "plot_graphs(history_1, \"f1_factor\")\n",
    "plot_graphs(history_1, \"loss\")"
   ]
  },
  {
   "cell_type": "code",
   "execution_count": 14,
   "metadata": {},
   "outputs": [
    {
     "name": "stdout",
     "output_type": "stream",
     "text": [
      "Model: \"model\"\n",
      "__________________________________________________________________________________________________\n",
      "Layer (type)                    Output Shape         Param #     Connected to                     \n",
      "==================================================================================================\n",
      "main_input (InputLayer)         [(None, 700, 27)]    0                                            \n",
      "__________________________________________________________________________________________________\n",
      "conv1d (Conv1D)                 (None, 700, 32)      896         main_input[0][0]                 \n",
      "__________________________________________________________________________________________________\n",
      "max_pooling1d (MaxPooling1D)    (None, 700, 27)      0           main_input[0][0]                 \n",
      "__________________________________________________________________________________________________\n",
      "conv1d_1 (Conv1D)               (None, 700, 32)      10272       conv1d[0][0]                     \n",
      "__________________________________________________________________________________________________\n",
      "conv1d_2 (Conv1D)               (None, 700, 32)      20512       conv1d[0][0]                     \n",
      "__________________________________________________________________________________________________\n",
      "conv1d_3 (Conv1D)               (None, 700, 32)      40992       conv1d[0][0]                     \n",
      "__________________________________________________________________________________________________\n",
      "conv1d_4 (Conv1D)               (None, 700, 32)      896         max_pooling1d[0][0]              \n",
      "__________________________________________________________________________________________________\n",
      "concatenate (Concatenate)       (None, 700, 128)     0           conv1d_1[0][0]                   \n",
      "                                                                 conv1d_2[0][0]                   \n",
      "                                                                 conv1d_3[0][0]                   \n",
      "                                                                 conv1d_4[0][0]                   \n",
      "__________________________________________________________________________________________________\n",
      "batch_normalization (BatchNorma (None, 700, 128)     512         concatenate[0][0]                \n",
      "__________________________________________________________________________________________________\n",
      "activation (Activation)         (None, 700, 128)     0           batch_normalization[0][0]        \n",
      "__________________________________________________________________________________________________\n",
      "dropout (Dropout)               (None, 700, 128)     0           activation[0][0]                 \n",
      "__________________________________________________________________________________________________\n",
      "conv1d_5 (Conv1D)               (None, 700, 32)      4128        dropout[0][0]                    \n",
      "__________________________________________________________________________________________________\n",
      "max_pooling1d_1 (MaxPooling1D)  (None, 700, 128)     0           dropout[0][0]                    \n",
      "__________________________________________________________________________________________________\n",
      "conv1d_6 (Conv1D)               (None, 700, 32)      10272       conv1d_5[0][0]                   \n",
      "__________________________________________________________________________________________________\n",
      "conv1d_7 (Conv1D)               (None, 700, 32)      20512       conv1d_5[0][0]                   \n",
      "__________________________________________________________________________________________________\n",
      "conv1d_8 (Conv1D)               (None, 700, 32)      40992       conv1d_5[0][0]                   \n",
      "__________________________________________________________________________________________________\n",
      "conv1d_9 (Conv1D)               (None, 700, 32)      4128        max_pooling1d_1[0][0]            \n",
      "__________________________________________________________________________________________________\n",
      "concatenate_1 (Concatenate)     (None, 700, 128)     0           conv1d_6[0][0]                   \n",
      "                                                                 conv1d_7[0][0]                   \n",
      "                                                                 conv1d_8[0][0]                   \n",
      "                                                                 conv1d_9[0][0]                   \n",
      "__________________________________________________________________________________________________\n",
      "batch_normalization_1 (BatchNor (None, 700, 128)     512         concatenate_1[0][0]              \n",
      "__________________________________________________________________________________________________\n",
      "activation_1 (Activation)       (None, 700, 128)     0           batch_normalization_1[0][0]      \n",
      "__________________________________________________________________________________________________\n",
      "dropout_1 (Dropout)             (None, 700, 128)     0           activation_1[0][0]               \n",
      "__________________________________________________________________________________________________\n",
      "conv1d_10 (Conv1D)              (None, 700, 32)      4128        dropout_1[0][0]                  \n",
      "__________________________________________________________________________________________________\n",
      "max_pooling1d_2 (MaxPooling1D)  (None, 700, 128)     0           dropout_1[0][0]                  \n",
      "__________________________________________________________________________________________________\n",
      "conv1d_11 (Conv1D)              (None, 700, 32)      10272       conv1d_10[0][0]                  \n",
      "__________________________________________________________________________________________________\n",
      "conv1d_12 (Conv1D)              (None, 700, 32)      20512       conv1d_10[0][0]                  \n",
      "__________________________________________________________________________________________________\n",
      "conv1d_13 (Conv1D)              (None, 700, 32)      40992       conv1d_10[0][0]                  \n",
      "__________________________________________________________________________________________________\n",
      "conv1d_14 (Conv1D)              (None, 700, 32)      4128        max_pooling1d_2[0][0]            \n",
      "__________________________________________________________________________________________________\n",
      "concatenate_2 (Concatenate)     (None, 700, 128)     0           conv1d_11[0][0]                  \n",
      "                                                                 conv1d_12[0][0]                  \n",
      "                                                                 conv1d_13[0][0]                  \n",
      "                                                                 conv1d_14[0][0]                  \n",
      "__________________________________________________________________________________________________\n",
      "batch_normalization_2 (BatchNor (None, 700, 128)     512         concatenate_2[0][0]              \n",
      "__________________________________________________________________________________________________\n",
      "conv1d_15 (Conv1D)              (None, 700, 128)     3456        main_input[0][0]                 \n",
      "__________________________________________________________________________________________________\n",
      "activation_2 (Activation)       (None, 700, 128)     0           batch_normalization_2[0][0]      \n",
      "__________________________________________________________________________________________________\n",
      "batch_normalization_3 (BatchNor (None, 700, 128)     512         conv1d_15[0][0]                  \n",
      "__________________________________________________________________________________________________\n",
      "dropout_2 (Dropout)             (None, 700, 128)     0           activation_2[0][0]               \n",
      "__________________________________________________________________________________________________\n",
      "add (Add)                       (None, 700, 128)     0           batch_normalization_3[0][0]      \n",
      "                                                                 dropout_2[0][0]                  \n",
      "__________________________________________________________________________________________________\n",
      "activation_3 (Activation)       (None, 700, 128)     0           add[0][0]                        \n",
      "__________________________________________________________________________________________________\n",
      "global_average_pooling1d (Globa (None, 128)          0           activation_3[0][0]               \n",
      "__________________________________________________________________________________________________\n",
      "aux_input (InputLayer)          [(None, 7)]          0                                            \n",
      "__________________________________________________________________________________________________\n",
      "concatenate_3 (Concatenate)     (None, 135)          0           global_average_pooling1d[0][0]   \n",
      "                                                                 aux_input[0][0]                  \n",
      "__________________________________________________________________________________________________\n",
      "dropout_3 (Dropout)             (None, 135)          0           concatenate_3[0][0]              \n",
      "__________________________________________________________________________________________________\n",
      "dense_1 (Dense)                 (None, 64)           8704        dropout_3[0][0]                  \n",
      "__________________________________________________________________________________________________\n",
      "dropout_4 (Dropout)             (None, 64)           0           dense_1[0][0]                    \n",
      "__________________________________________________________________________________________________\n",
      "dense_2 (Dense)                 (None, 16)           1040        dropout_4[0][0]                  \n",
      "__________________________________________________________________________________________________\n",
      "dropout_5 (Dropout)             (None, 16)           0           dense_2[0][0]                    \n",
      "__________________________________________________________________________________________________\n",
      "dense_3 (Dense)                 (None, 1)            17          dropout_5[0][0]                  \n",
      "==================================================================================================\n",
      "Total params: 248,897\n",
      "Trainable params: 247,873\n",
      "Non-trainable params: 1,024\n",
      "__________________________________________________________________________________________________\n"
     ]
    }
   ],
   "source": [
    "model_2 = inceptionTime_model()\n",
    "model_2.summary()"
   ]
  },
  {
   "cell_type": "code",
   "execution_count": 15,
   "metadata": {},
   "outputs": [
    {
     "name": "stdout",
     "output_type": "stream",
     "text": [
      "Train on 1123 samples, validate on 389 samples\n",
      "Epoch 1/30\n",
      "WARNING:tensorflow:From C:\\Users\\shala\\Anaconda3\\envs\\tf-gpu\\lib\\site-packages\\tensorflow_core\\python\\ops\\resource_variable_ops.py:1781: calling BaseResourceVariable.__init__ (from tensorflow.python.ops.resource_variable_ops) with constraint is deprecated and will be removed in a future version.\n",
      "Instructions for updating:\n",
      "If using Keras pass *_constraint arguments to layers.\n",
      "INFO:tensorflow:Assets written to: model_0\\assets\n",
      "1123/1123 - 13s - loss: 0.6324 - accuracy: 0.6447 - f1_factor: 0.4409 - val_loss: 0.6941 - val_accuracy: 0.5604 - val_f1_factor: 0.4403\n",
      "Epoch 2/30\n",
      "INFO:tensorflow:Assets written to: model_0\\assets\n",
      "1123/1123 - 8s - loss: 0.5254 - accuracy: 0.7382 - f1_factor: 0.5558 - val_loss: 0.6609 - val_accuracy: 0.6992 - val_f1_factor: 0.3323\n",
      "Epoch 3/30\n",
      "INFO:tensorflow:Assets written to: model_0\\assets\n",
      "1123/1123 - 8s - loss: 0.4309 - accuracy: 0.7996 - f1_factor: 0.6452 - val_loss: 0.6697 - val_accuracy: 0.6581 - val_f1_factor: 0.3308\n",
      "Epoch 4/30\n",
      "INFO:tensorflow:Assets written to: model_0\\assets\n",
      "1123/1123 - 8s - loss: 0.3717 - accuracy: 0.8362 - f1_factor: 0.7109 - val_loss: 0.7550 - val_accuracy: 0.6812 - val_f1_factor: 0.4917\n",
      "Epoch 5/30\n",
      "INFO:tensorflow:Assets written to: model_0\\assets\n",
      "1123/1123 - 8s - loss: 0.3087 - accuracy: 0.8860 - f1_factor: 0.7967 - val_loss: 0.7737 - val_accuracy: 0.5784 - val_f1_factor: 0.4757\n",
      "Epoch 6/30\n",
      "INFO:tensorflow:Assets written to: model_0\\assets\n",
      "1123/1123 - 9s - loss: 0.2756 - accuracy: 0.8860 - f1_factor: 0.8195 - val_loss: 0.8140 - val_accuracy: 0.5707 - val_f1_factor: 0.4635\n",
      "Epoch 7/30\n",
      "INFO:tensorflow:Assets written to: model_0\\assets\n",
      "1123/1123 - 9s - loss: 0.2357 - accuracy: 0.9190 - f1_factor: 0.8806 - val_loss: 0.7880 - val_accuracy: 0.6144 - val_f1_factor: 0.4418\n",
      "Epoch 8/30\n",
      "INFO:tensorflow:Assets written to: model_0\\assets\n",
      "1123/1123 - 8s - loss: 0.1907 - accuracy: 0.9297 - f1_factor: 0.9003 - val_loss: 1.1146 - val_accuracy: 0.4293 - val_f1_factor: 0.4270\n",
      "Epoch 9/30\n",
      "INFO:tensorflow:Assets written to: model_0\\assets\n",
      "1123/1123 - 8s - loss: 0.1536 - accuracy: 0.9590 - f1_factor: 0.9299 - val_loss: 1.5330 - val_accuracy: 0.4293 - val_f1_factor: 0.4517\n",
      "Epoch 10/30\n",
      "INFO:tensorflow:Assets written to: model_0\\assets\n",
      "1123/1123 - 9s - loss: 0.1950 - accuracy: 0.9386 - f1_factor: 0.8879 - val_loss: 2.1187 - val_accuracy: 0.5527 - val_f1_factor: 0.5028\n",
      "Epoch 11/30\n",
      "INFO:tensorflow:Assets written to: model_0\\assets\n",
      "1123/1123 - 8s - loss: 0.1517 - accuracy: 0.9537 - f1_factor: 0.9263 - val_loss: 2.2219 - val_accuracy: 0.5398 - val_f1_factor: 0.4546\n",
      "Epoch 12/30\n",
      "INFO:tensorflow:Assets written to: model_0\\assets\n",
      "1123/1123 - 9s - loss: 0.1265 - accuracy: 0.9573 - f1_factor: 0.9402 - val_loss: 2.4658 - val_accuracy: 0.5013 - val_f1_factor: 0.4284\n",
      "Epoch 13/30\n",
      "INFO:tensorflow:Assets written to: model_0\\assets\n",
      "1123/1123 - 9s - loss: 0.0886 - accuracy: 0.9706 - f1_factor: 0.9521 - val_loss: 1.9077 - val_accuracy: 0.5527 - val_f1_factor: 0.4347\n",
      "Epoch 14/30\n",
      "INFO:tensorflow:Assets written to: model_0\\assets\n",
      "1123/1123 - 8s - loss: 0.1147 - accuracy: 0.9697 - f1_factor: 0.9473 - val_loss: 2.7874 - val_accuracy: 0.5039 - val_f1_factor: 0.4797\n",
      "Epoch 15/30\n",
      "INFO:tensorflow:Assets written to: model_0\\assets\n",
      "1123/1123 - 8s - loss: 0.1773 - accuracy: 0.9341 - f1_factor: 0.9111 - val_loss: 3.2157 - val_accuracy: 0.4499 - val_f1_factor: 0.4540\n",
      "Epoch 16/30\n",
      "INFO:tensorflow:Assets written to: model_0\\assets\n",
      "1123/1123 - 9s - loss: 0.1207 - accuracy: 0.9617 - f1_factor: 0.9166 - val_loss: 3.3725 - val_accuracy: 0.4267 - val_f1_factor: 0.4546\n",
      "Epoch 17/30\n",
      "INFO:tensorflow:Assets written to: model_0\\assets\n",
      "1123/1123 - 7s - loss: 0.1862 - accuracy: 0.9332 - f1_factor: 0.8984 - val_loss: 2.6553 - val_accuracy: 0.5167 - val_f1_factor: 0.4533\n",
      "Epoch 18/30\n",
      "INFO:tensorflow:Assets written to: model_0\\assets\n",
      "1123/1123 - 9s - loss: 0.1283 - accuracy: 0.9608 - f1_factor: 0.9373 - val_loss: 2.4327 - val_accuracy: 0.5347 - val_f1_factor: 0.4310\n",
      "Epoch 19/30\n",
      "INFO:tensorflow:Assets written to: model_0\\assets\n",
      "1123/1123 - 9s - loss: 0.1200 - accuracy: 0.9706 - f1_factor: 0.9327 - val_loss: 2.8618 - val_accuracy: 0.5527 - val_f1_factor: 0.4190\n",
      "Epoch 20/30\n",
      "INFO:tensorflow:Assets written to: model_0\\assets\n",
      "1123/1123 - 9s - loss: 0.0975 - accuracy: 0.9715 - f1_factor: 0.9582 - val_loss: 3.1173 - val_accuracy: 0.5527 - val_f1_factor: 0.4190\n",
      "Epoch 21/30\n",
      "INFO:tensorflow:Assets written to: model_0\\assets\n",
      "1123/1123 - 7s - loss: 0.0737 - accuracy: 0.9804 - f1_factor: 0.9615 - val_loss: 3.2506 - val_accuracy: 0.5347 - val_f1_factor: 0.4685\n",
      "Epoch 22/30\n",
      "INFO:tensorflow:Assets written to: model_0\\assets\n",
      "1123/1123 - 9s - loss: 0.1288 - accuracy: 0.9635 - f1_factor: 0.9448 - val_loss: 3.4519 - val_accuracy: 0.5527 - val_f1_factor: 0.4635\n",
      "Epoch 23/30\n",
      "INFO:tensorflow:Assets written to: model_0\\assets\n",
      "1123/1123 - 9s - loss: 0.0856 - accuracy: 0.9777 - f1_factor: 0.9394 - val_loss: 3.6522 - val_accuracy: 0.5373 - val_f1_factor: 0.4283\n",
      "Epoch 24/30\n",
      "INFO:tensorflow:Assets written to: model_0\\assets\n",
      "1123/1123 - 8s - loss: 0.0865 - accuracy: 0.9786 - f1_factor: 0.9687 - val_loss: 2.9392 - val_accuracy: 0.5707 - val_f1_factor: 0.5007\n",
      "Epoch 25/30\n",
      "INFO:tensorflow:Assets written to: model_0\\assets\n",
      "1123/1123 - 9s - loss: 0.0606 - accuracy: 0.9849 - f1_factor: 0.9774 - val_loss: 3.1357 - val_accuracy: 0.5013 - val_f1_factor: 0.4499\n",
      "Epoch 26/30\n",
      "INFO:tensorflow:Assets written to: model_0\\assets\n",
      "1123/1123 - 8s - loss: 0.0438 - accuracy: 0.9911 - f1_factor: 0.9605 - val_loss: 3.7891 - val_accuracy: 0.5707 - val_f1_factor: 0.4701\n",
      "Epoch 27/30\n",
      "INFO:tensorflow:Assets written to: model_0\\assets\n",
      "1123/1123 - 10s - loss: 0.0765 - accuracy: 0.9804 - f1_factor: 0.9464 - val_loss: 3.5996 - val_accuracy: 0.6170 - val_f1_factor: 0.4976\n",
      "Epoch 28/30\n",
      "INFO:tensorflow:Assets written to: model_0\\assets\n",
      "1123/1123 - 9s - loss: 0.0758 - accuracy: 0.9768 - f1_factor: 0.9393 - val_loss: 3.4676 - val_accuracy: 0.4884 - val_f1_factor: 0.4860\n",
      "Epoch 29/30\n",
      "INFO:tensorflow:Assets written to: model_0\\assets\n",
      "1123/1123 - 8s - loss: 0.0869 - accuracy: 0.9786 - f1_factor: 0.9423 - val_loss: 3.2135 - val_accuracy: 0.5656 - val_f1_factor: 0.4416\n",
      "Epoch 30/30\n",
      "INFO:tensorflow:Assets written to: model_0\\assets\n",
      "1123/1123 - 9s - loss: 0.0731 - accuracy: 0.9822 - f1_factor: 0.9766 - val_loss: 3.1588 - val_accuracy: 0.5450 - val_f1_factor: 0.4266\n"
     ]
    }
   ],
   "source": [
    "reduce_lr = tf.keras.callbacks.ReduceLROnPlateau(monitor='loss', factor=0.5, patience=50, min_lr=0.001)\n",
    "model_checkpoint = tf.keras.callbacks.ModelCheckpoint('model_0', monitor='loss', restore_best_weights=True)\n",
    "callbacks = [reduce_lr, model_checkpoint]\n",
    "\n",
    "history_2=model_2.fit(x=([train_sentences, train_aux_sentences]), y=[train_labels],  epochs=30, validation_data=([validation_sentences, validation_aux_sentences], validation_labels), verbose=2, callbacks=callbacks)"
   ]
  },
  {
   "cell_type": "code",
   "execution_count": 16,
   "metadata": {},
   "outputs": [
    {
     "data": {
      "text/plain": [
       "array([[ 53,  45],\n",
       "       [116, 162]], dtype=int64)"
      ]
     },
     "execution_count": 16,
     "metadata": {},
     "output_type": "execute_result"
    }
   ],
   "source": [
    "pred = np.around(model_2.predict([test_sentences, test_aux_sentences]).astype(float))\n",
    "confusion_matrix(test_labels, pred, labels=[1,0])"
   ]
  },
  {
   "cell_type": "code",
   "execution_count": 17,
   "metadata": {},
   "outputs": [
    {
     "data": {
      "image/png": "[encoded data removed]",
      "text/plain": [
       "<Figure size 432x288 with 1 Axes>"
      ]
     },
     "metadata": {
      "needs_background": "light"
     },
     "output_type": "display_data"
    },
    {
     "data": {
      "image/png": "[encoded data removed]",
      "text/plain": [
       "<Figure size 432x288 with 1 Axes>"
      ]
     },
     "metadata": {
      "needs_background": "light"
     },
     "output_type": "display_data"
    }
   ],
   "source": [
    "plot_graphs(history_2, \"f1_factor\")\n",
    "plot_graphs(history_2, \"loss\")"
   ]
  },
  {
   "cell_type": "code",
   "execution_count": null,
   "metadata": {},
   "outputs": [],
   "source": []
  }
 ],
 "metadata": {
  "kernelspec": {
   "display_name": "Python 3",
   "language": "python",
   "name": "python3"
  },
  "language_info": {
   "codemirror_mode": {
    "name": "ipython",
    "version": 3
   },
   "file_extension": ".py",
   "mimetype": "text/x-python",
   "name": "python",
   "nbconvert_exporter": "python",
   "pygments_lexer": "ipython3",
   "version": "3.7.6"
  }
 },
 "nbformat": 4,
 "nbformat_minor": 2
}
